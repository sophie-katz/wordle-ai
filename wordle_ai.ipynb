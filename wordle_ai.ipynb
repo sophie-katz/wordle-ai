{
 "cells": [
  {
   "cell_type": "markdown",
   "id": "65ff63a3-6a60-40c3-8d3c-316bc1759443",
   "metadata": {},
   "source": [
    "# Wordle AI\n",
    "\n",
    "We start off with basic imports. `wordle_ai.py` stores most of the source code for this project, so we import it as well."
   ]
  },
  {
   "cell_type": "code",
   "execution_count": null,
   "id": "297f953c-d1d0-4a8e-a7ec-0efb44a89dcb",
   "metadata": {},
   "outputs": [],
   "source": [
    "import json\n",
    "from wordle_ai import *"
   ]
  },
  {
   "cell_type": "markdown",
   "id": "3ab55915-56cc-49cb-bb91-dc7cead85aad",
   "metadata": {},
   "source": [
    "`words.json` is the database of possible Wordle words taken from the Wordle source code on Feb 25, 2022. `history.json` is a database of historical Wordle answers taken from [https://gist.github.com/cfreshman/a03ef2cba789d8cf00c08f767e0fad7b](https://gist.github.com/cfreshman/a03ef2cba789d8cf00c08f767e0fad7b). We load both of these."
   ]
  },
  {
   "cell_type": "code",
   "execution_count": null,
   "id": "56567d7b-fc6f-4e03-a383-c7ebe0175b5c",
   "metadata": {},
   "outputs": [],
   "source": [
    "with open(\"words.json\", \"r\") as file:\n",
    "    word_set = WordSet(json.load(file))\n",
    "\n",
    "print(f\"Words: {len(word_set.words)}\") # smoke test\n",
    "\n",
    "with open(\"history.json\", \"r\") as file:\n",
    "    history = json.load(file)\n",
    "\n",
    "print(f\"History: {len(history)}\") # smoke test"
   ]
  },
  {
   "cell_type": "markdown",
   "id": "f1ecfc56-bc60-4184-92cd-4bf7526ed2a4",
   "metadata": {},
   "source": [
    "## Test 1: Baseline control\n",
    "\n",
    "The first test that we run is a baseline control with an agent that chooses words at random. It's smart enough not to choose words that don't meet the hints, but other than that it's pretty dumb."
   ]
  },
  {
   "cell_type": "code",
   "execution_count": null,
   "id": "631518d3-5715-45dd-9e25-99da9ec2662c",
   "metadata": {},
   "outputs": [],
   "source": [
    "wordle_simulation = WordleSimulation(lambda: WordleAgentRandom(word_set))\n",
    "\n",
    "win_ratio, hist = wordle_simulation.run_many(random.sample(history, 100), enable_progress_bar = True)"
   ]
  },
  {
   "cell_type": "code",
   "execution_count": null,
   "id": "cac28428-d9cb-48e7-ad08-2d80d7236e80",
   "metadata": {},
   "outputs": [],
   "source": [
    "hist"
   ]
  },
  {
   "cell_type": "code",
   "execution_count": null,
   "id": "7f109140-a7e7-44fa-9f0b-3a52f55d6bff",
   "metadata": {},
   "outputs": [],
   "source": [
    "win_ratio"
   ]
  },
  {
   "cell_type": "markdown",
   "id": "7365f0af-7297-4430-aef7-53b2a5b74593",
   "metadata": {},
   "source": [
    "## Test 2: With letter frequency\n",
    "\n",
    "Let us then compare this to the same agent that chooses its guesses by which letters are most common."
   ]
  },
  {
   "cell_type": "code",
   "execution_count": null,
   "id": "6f9b335c-221d-4ad0-a8d7-bd8ddc61cb23",
   "metadata": {},
   "outputs": [],
   "source": [
    "wordle_simulation = WordleSimulation(lambda: WordleAgentLetterFrequencySum(word_set))\n",
    "\n",
    "win_ratio, hist = wordle_simulation.run_many(random.sample(history, 100), enable_progress_bar = True)"
   ]
  },
  {
   "cell_type": "code",
   "execution_count": null,
   "id": "d92e7102-a273-4367-82f5-0320a9a7b166",
   "metadata": {},
   "outputs": [],
   "source": [
    "hist"
   ]
  },
  {
   "cell_type": "code",
   "execution_count": null,
   "id": "2170e9e2-35a6-4d09-b7c9-76a4ad367040",
   "metadata": {},
   "outputs": [],
   "source": [
    "win_ratio"
   ]
  },
  {
   "cell_type": "code",
   "execution_count": null,
   "id": "24380782-8b77-4483-add7-d7a15155ec3e",
   "metadata": {},
   "outputs": [],
   "source": []
  }
 ],
 "metadata": {
  "kernelspec": {
   "display_name": "Python 3 (ipykernel)",
   "language": "python",
   "name": "python3"
  },
  "language_info": {
   "codemirror_mode": {
    "name": "ipython",
    "version": 3
   },
   "file_extension": ".py",
   "mimetype": "text/x-python",
   "name": "python",
   "nbconvert_exporter": "python",
   "pygments_lexer": "ipython3",
   "version": "3.10.2"
  }
 },
 "nbformat": 4,
 "nbformat_minor": 5
}
